{
 "cells": [
  {
   "cell_type": "markdown",
   "metadata": {},
   "source": [
    "# Pima Data cleaning\n",
    "\n"
   ]
  },
  {
   "cell_type": "code",
   "execution_count": null,
   "metadata": {},
   "outputs": [],
   "source": [
    "# Import Modules Here\n",
    "import pandas as pd"
   ]
  },
  {
   "cell_type": "markdown",
   "metadata": {},
   "source": [
    "## Part 1: Read the Data into Jupyter"
   ]
  },
  {
   "cell_type": "code",
   "execution_count": 1,
   "metadata": {},
   "outputs": [
    {
     "ename": "NameError",
     "evalue": "name 'pd' is not defined",
     "output_type": "error",
     "traceback": [
      "\u001b[0;31m---------------------------------------------------------------------------\u001b[0m",
      "\u001b[0;31mNameError\u001b[0m                                 Traceback (most recent call last)",
      "Cell \u001b[0;32mIn[1], line 2\u001b[0m\n\u001b[1;32m      1\u001b[0m \u001b[38;5;66;03m# Read the data into a dataframe named pima_df.\u001b[39;00m\n\u001b[0;32m----> 2\u001b[0m pima_df \u001b[38;5;241m=\u001b[39m \u001b[43mpd\u001b[49m\u001b[38;5;241m.\u001b[39mread_csv(\u001b[38;5;124m'\u001b[39m\u001b[38;5;124mdiabetes_uncleaned_data.csv\u001b[39m\u001b[38;5;124m'\u001b[39m)\n",
      "\u001b[0;31mNameError\u001b[0m: name 'pd' is not defined"
     ]
    }
   ],
   "source": [
    "# Read the data into a dataframe named pima_df.\n",
    "pima_df = pd.read_csv('diabetes_uncleaned_data.csv')"
   ]
  },
  {
   "cell_type": "code",
   "execution_count": 1,
   "metadata": {},
   "outputs": [
    {
     "ename": "NameError",
     "evalue": "name 'pima_df' is not defined",
     "output_type": "error",
     "traceback": [
      "\u001b[0;31m---------------------------------------------------------------------------\u001b[0m",
      "\u001b[0;31mNameError\u001b[0m                                 Traceback (most recent call last)",
      "Cell \u001b[0;32mIn[1], line 2\u001b[0m\n\u001b[1;32m      1\u001b[0m \u001b[38;5;66;03m#Question 1:  Find Columns with missing data\u001b[39;00m\n\u001b[0;32m----> 2\u001b[0m \u001b[43mpima_df\u001b[49m\u001b[38;5;241m.\u001b[39misna()\u001b[38;5;241m.\u001b[39msum()\n",
      "\u001b[0;31mNameError\u001b[0m: name 'pima_df' is not defined"
     ]
    }
   ],
   "source": [
    "#Question 1:  Find Columns with missing data\n",
    "pima_df.isna().sum()"
   ]
  },
  {
   "cell_type": "code",
   "execution_count": 12,
   "metadata": {},
   "outputs": [
    {
     "name": "stdout",
     "output_type": "stream",
     "text": [
      "<class 'pandas.core.frame.DataFrame'>\n",
      "RangeIndex: 1004 entries, 0 to 1003\n",
      "Data columns (total 9 columns):\n",
      " #   Column                    Non-Null Count  Dtype  \n",
      "---  ------                    --------------  -----  \n",
      " 0   Pregnancies               890 non-null    float64\n",
      " 1   Glucose                   988 non-null    float64\n",
      " 2   BloodPressure             982 non-null    object \n",
      " 3   SkinThickness             1004 non-null   int64  \n",
      " 4   Insulin                   1004 non-null   int64  \n",
      " 5   BMI                       1003 non-null   object \n",
      " 6   DiabetesPedigreeFunction  1004 non-null   float64\n",
      " 7   Age                       982 non-null    float64\n",
      " 8   Outcome                   1004 non-null   object \n",
      "dtypes: float64(4), int64(2), object(3)\n",
      "memory usage: 70.7+ KB\n"
     ]
    }
   ],
   "source": [
    "# Question 2:  Write code to remove rows with missing data and save the new dataframe as pima_missing_fixed_df\n",
    "pima_df.info()"
   ]
  },
  {
   "cell_type": "code",
   "execution_count": 26,
   "metadata": {},
   "outputs": [],
   "source": [
    "pima_missing_fixed_df = pima_df.dropna(how='any')\n",
    "pima_missing_fixed_df.isna().sum()"
   ]
  },
  {
   "cell_type": "code",
   "execution_count": 28,
   "metadata": {},
   "outputs": [
    {
     "name": "stdout",
     "output_type": "stream",
     "text": [
      "<class 'pandas.core.frame.DataFrame'>\n",
      "Index: 840 entries, 0 to 1003\n",
      "Data columns (total 9 columns):\n",
      " #   Column                    Non-Null Count  Dtype  \n",
      "---  ------                    --------------  -----  \n",
      " 0   Pregnancies               840 non-null    float64\n",
      " 1   Glucose                   840 non-null    float64\n",
      " 2   BloodPressure             840 non-null    object \n",
      " 3   SkinThickness             840 non-null    int64  \n",
      " 4   Insulin                   840 non-null    int64  \n",
      " 5   BMI                       840 non-null    object \n",
      " 6   DiabetesPedigreeFunction  840 non-null    float64\n",
      " 7   Age                       840 non-null    float64\n",
      " 8   Outcome                   840 non-null    object \n",
      "dtypes: float64(4), int64(2), object(3)\n",
      "memory usage: 65.6+ KB\n",
      "None\n"
     ]
    }
   ],
   "source": [
    "print(pima_missing_fixed_df.info())"
   ]
  },
  {
   "cell_type": "code",
   "execution_count": 29,
   "metadata": {},
   "outputs": [
    {
     "name": "stdout",
     "output_type": "stream",
     "text": [
      "Number of rows in the fixed Dataframe:  840\n"
     ]
    }
   ],
   "source": [
    "# Question 3:  Print out the number of rows in the dataframe.\n",
    "len(pima_missing_fixed_df)"
   ]
  },
  {
   "cell_type": "code",
   "execution_count": null,
   "metadata": {},
   "outputs": [],
   "source": [
    "# Question 4: In your jupyter notebook, discuss why this could be a problem. What other methods could you use in this situation? \n",
    "Discuss why missing data could be a problem? Missing data could lead to incomplete analysis--if not handled properly, it could skew \n",
    "statistical measures and affect the reliability of the conclusions that are being drawn from the data, we dont want steakholders viewing\n",
    "this data. We first need to understand why the data is missing, what kind of data is missing, and if it needs to be filled in before making \n",
    "conclusions. "
   ]
  },
  {
   "cell_type": "code",
   "execution_count": 37,
   "metadata": {},
   "outputs": [
    {
     "name": "stdout",
     "output_type": "stream",
     "text": [
      "Duplicated rows:\n",
      "      Pregnancies  Glucose BloodPressure  SkinThickness  Insulin   BMI  \\\n",
      "925           6.0     39.0            46              2      287  40.4   \n",
      "926          10.0     67.0            39             12      168  53.4   \n",
      "999           6.0    110.0            26             27      590  20.8   \n",
      "1003          6.0    151.0            60             26      362  43.4   \n",
      "\n",
      "      DiabetesPedigreeFunction   Age Outcome  \n",
      "925                      2.394  60.0    TRUE  \n",
      "926                      0.162  71.0   FALSE  \n",
      "999                      1.185  95.0   FALSE  \n",
      "1003                     2.027  23.0   FALSE  \n"
     ]
    }
   ],
   "source": [
    "# Question 1: find the rows of duplicated data in the pima_missing_fixed_df and print them.  \n",
    "pima_missing_fixed_df[pima_missing_fixed_df.duplicated()]"
   ]
  },
  {
   "cell_type": "code",
   "execution_count": 39,
   "metadata": {},
   "outputs": [],
   "source": [
    "# Question 2:  Write code to remove the duplicate rows and save the new dataframe as pima_dedupped_df\n",
    "# Remove duplicate rows and save\n",
    "pima_dedupped_df = pima_missing_fixed_df.drop_duplicates()"
   ]
  },
  {
   "cell_type": "code",
   "execution_count": 40,
   "metadata": {},
   "outputs": [
    {
     "name": "stdout",
     "output_type": "stream",
     "text": [
      "Number of rows in the DataFrame: 836\n"
     ]
    }
   ],
   "source": [
    "# Question 3:  Print out the number of rows in the dataframe.\n",
    "len(pima_dedupped_df)"
   ]
  },
  {
   "cell_type": "code",
   "execution_count": 52,
   "metadata": {},
   "outputs": [
    {
     "data": {
      "text/html": [
       "<div>\n",
       "<style scoped>\n",
       "    .dataframe tbody tr th:only-of-type {\n",
       "        vertical-align: middle;\n",
       "    }\n",
       "\n",
       "    .dataframe tbody tr th {\n",
       "        vertical-align: top;\n",
       "    }\n",
       "\n",
       "    .dataframe thead th {\n",
       "        text-align: right;\n",
       "    }\n",
       "</style>\n",
       "<table border=\"1\" class=\"dataframe\">\n",
       "  <thead>\n",
       "    <tr style=\"text-align: right;\">\n",
       "      <th></th>\n",
       "      <th>Pregnancies</th>\n",
       "      <th>Glucose</th>\n",
       "      <th>SkinThickness</th>\n",
       "      <th>Insulin</th>\n",
       "      <th>DiabetesPedigreeFunction</th>\n",
       "      <th>Age</th>\n",
       "    </tr>\n",
       "  </thead>\n",
       "  <tbody>\n",
       "    <tr>\n",
       "      <th>count</th>\n",
       "      <td>840.000000</td>\n",
       "      <td>840.000000</td>\n",
       "      <td>840.000000</td>\n",
       "      <td>840.000000</td>\n",
       "      <td>840.000000</td>\n",
       "      <td>840.000000</td>\n",
       "    </tr>\n",
       "    <tr>\n",
       "      <th>mean</th>\n",
       "      <td>6.584524</td>\n",
       "      <td>99.689286</td>\n",
       "      <td>25.397619</td>\n",
       "      <td>454.913095</td>\n",
       "      <td>1.512724</td>\n",
       "      <td>85.991667</td>\n",
       "    </tr>\n",
       "    <tr>\n",
       "      <th>std</th>\n",
       "      <td>5.418812</td>\n",
       "      <td>58.521981</td>\n",
       "      <td>14.490028</td>\n",
       "      <td>419.699587</td>\n",
       "      <td>0.884224</td>\n",
       "      <td>36.896385</td>\n",
       "    </tr>\n",
       "    <tr>\n",
       "      <th>min</th>\n",
       "      <td>-100.000000</td>\n",
       "      <td>0.000000</td>\n",
       "      <td>0.000000</td>\n",
       "      <td>2.000000</td>\n",
       "      <td>0.001000</td>\n",
       "      <td>21.000000</td>\n",
       "    </tr>\n",
       "    <tr>\n",
       "      <th>25%</th>\n",
       "      <td>3.000000</td>\n",
       "      <td>47.000000</td>\n",
       "      <td>13.000000</td>\n",
       "      <td>216.000000</td>\n",
       "      <td>0.721000</td>\n",
       "      <td>54.000000</td>\n",
       "    </tr>\n",
       "    <tr>\n",
       "      <th>50%</th>\n",
       "      <td>7.000000</td>\n",
       "      <td>103.000000</td>\n",
       "      <td>25.000000</td>\n",
       "      <td>435.000000</td>\n",
       "      <td>1.508000</td>\n",
       "      <td>85.000000</td>\n",
       "    </tr>\n",
       "    <tr>\n",
       "      <th>75%</th>\n",
       "      <td>10.000000</td>\n",
       "      <td>151.000000</td>\n",
       "      <td>38.000000</td>\n",
       "      <td>660.000000</td>\n",
       "      <td>2.316000</td>\n",
       "      <td>117.000000</td>\n",
       "    </tr>\n",
       "    <tr>\n",
       "      <th>max</th>\n",
       "      <td>13.000000</td>\n",
       "      <td>200.000000</td>\n",
       "      <td>50.000000</td>\n",
       "      <td>10000.000000</td>\n",
       "      <td>2.998000</td>\n",
       "      <td>150.000000</td>\n",
       "    </tr>\n",
       "  </tbody>\n",
       "</table>\n",
       "</div>"
      ],
      "text/plain": [
       "       Pregnancies     Glucose  SkinThickness       Insulin  \\\n",
       "count   840.000000  840.000000     840.000000    840.000000   \n",
       "mean      6.584524   99.689286      25.397619    454.913095   \n",
       "std       5.418812   58.521981      14.490028    419.699587   \n",
       "min    -100.000000    0.000000       0.000000      2.000000   \n",
       "25%       3.000000   47.000000      13.000000    216.000000   \n",
       "50%       7.000000  103.000000      25.000000    435.000000   \n",
       "75%      10.000000  151.000000      38.000000    660.000000   \n",
       "max      13.000000  200.000000      50.000000  10000.000000   \n",
       "\n",
       "       DiabetesPedigreeFunction         Age  \n",
       "count                840.000000  840.000000  \n",
       "mean                   1.512724   85.991667  \n",
       "std                    0.884224   36.896385  \n",
       "min                    0.001000   21.000000  \n",
       "25%                    0.721000   54.000000  \n",
       "50%                    1.508000   85.000000  \n",
       "75%                    2.316000  117.000000  \n",
       "max                    2.998000  150.000000  "
      ]
     },
     "execution_count": 52,
     "metadata": {},
     "output_type": "execute_result"
    }
   ],
   "source": [
    "# Question 1: find the columns where most of the data seems to be one type of data, and there seems to be a data error. In the markdown, after exploring in code, add a markdown cell discussing which columns have the data error. \n",
    "pima_dedupped_df.head()"
   ]
  },
  {
   "cell_type": "code",
   "execution_count": 55,
   "metadata": {},
   "outputs": [
    {
     "data": {
      "text/plain": [
       "(1, 9)"
      ]
     },
     "execution_count": 55,
     "metadata": {},
     "output_type": "execute_result"
    }
   ],
   "source": [
    "print(pima_dedupped_df.dtypes)"
   ]
  },
  {
   "cell_type": "code",
   "execution_count": 58,
   "metadata": {},
   "outputs": [
    {
     "name": "stdout",
     "output_type": "stream",
     "text": [
      "Outcome\n",
      "FALSE    444\n",
      "TRUE     395\n",
      "ERROR      1\n",
      "Name: count, dtype: int64\n"
     ]
    }
   ],
   "source": [
    "for col, dtype in pima_dedupped_df.dtypes.items():\n",
    "    if dtype == float or dtype == int:\n",
    "        print(f'{col}: {pima_dedupped_df[col].min()} -> {pima_dedupped_df[col].max()}')"
   ]
  },
  {
   "cell_type": "code",
   "execution_count": 90,
   "metadata": {},
   "outputs": [
    {
     "name": "stdout",
     "output_type": "stream",
     "text": [
      "BloodPressure\n",
      "26       16\n",
      "96       15\n",
      "27       15\n",
      "82       15\n",
      "81       13\n",
      "         ..\n",
      "107       4\n",
      "13        3\n",
      "10000     2\n",
      "Error     2\n",
      "19        1\n",
      "Name: count, Length: 113, dtype: int64\n"
     ]
    }
   ],
   "source": [
    "pima_dedupped_df.BloodPressure.max()"
   ]
  },
  {
   "cell_type": "code",
   "execution_count": 59,
   "metadata": {},
   "outputs": [
    {
     "name": "stdout",
     "output_type": "stream",
     "text": [
      "Pregnancies\n",
      " 8.0      73\n",
      " 7.0      73\n",
      " 3.0      64\n",
      " 6.0      64\n",
      " 13.0     63\n",
      " 10.0     62\n",
      " 11.0     61\n",
      " 12.0     61\n",
      " 0.0      58\n",
      " 4.0      58\n",
      " 9.0      57\n",
      " 1.0      52\n",
      " 2.0      48\n",
      " 5.0      45\n",
      "-100.0     1\n",
      "Name: count, dtype: int64\n"
     ]
    }
   ],
   "source": [
    "pima_dedupped_df.BMI.max()"
   ]
  },
  {
   "cell_type": "code",
   "execution_count": 60,
   "metadata": {},
   "outputs": [
    {
     "name": "stdout",
     "output_type": "stream",
     "text": [
      "      Pregnancies  Glucose BloodPressure  SkinThickness  Insulin   BMI  \\\n",
      "893          12.0    197.0         Error             27      876  24.5   \n",
      "1002          3.0    142.0         Error             10      299   4.8   \n",
      "\n",
      "      DiabetesPedigreeFunction   Age Outcome  \n",
      "893                      1.565  33.0    TRUE  \n",
      "1002                     2.411  71.0    TRUE  \n"
     ]
    }
   ],
   "source": [
    "pima_dedupped_df.Outcome.value_counts()"
   ]
  },
  {
   "cell_type": "code",
   "execution_count": null,
   "metadata": {},
   "outputs": [],
   "source": [
    "### Columns with Identified Data Errors (Based on Unique Values)\n",
    "\n",
    "Upon examining the unique values in each column:\n",
    "\n",
    "- **Pregnancies**: contains -100 which is an error based on num pregnancies in df.\n",
    "- **Glucose**: given 70 to 200 mg/dL is for normal and diabetic populations, values like 0 and very low integers are likely errors or missing\n",
    "data points. Values close to 200 should be checked for their validity.\n",
    "- **BloodPressure**: Contains values like 0 adn 10000, which are likely errors given the context of blood pressure, as well as 'error' value\n",
    "- **SkinThickness**: Zero (0) might indicate a missing value or an error, as its unusual to have zero skin thickness.\n",
    "- **Insulin**: The value 10000 stands out as it is significantly higher than other values and might be an error or a rare extreme case.\n",
    "- **BMI**: Includes values such as 0, which are biologically implausible for body mass index, as well as some extremes. Error input as str as well.\n",
    "- **DiabetesPedigreeFunction**: need more insights\n",
    "- **Age**: Fairly reasonable, could check validity of extreme high values\n",
    "- **Outcome**: some error values\n",
    "\n",
    "These unique values suggest potential errors or inconsistencies in the dataset that need to be addressed\n"
   ]
  },
  {
   "cell_type": "code",
   "execution_count": 73,
   "metadata": {},
   "outputs": [],
   "source": [
    "import numpy as np"
   ]
  },
  {
   "cell_type": "code",
   "execution_count": 79,
   "metadata": {},
   "outputs": [
    {
     "name": "stdout",
     "output_type": "stream",
     "text": [
      "\n",
      "DataFrame after removing rows with 'ERROR' values:\n",
      "      Pregnancies  Glucose BloodPressure  SkinThickness  Insulin   BMI  \\\n",
      "0             3.0    167.0            39             28      545  53.0   \n",
      "1            13.0    151.0           107             38    10000   9.2   \n",
      "2             8.0     59.0           109             18      739  59.1   \n",
      "4            10.0    165.0            48             37      737  39.4   \n",
      "5          -100.0    142.0            88             39       82  42.7   \n",
      "...           ...      ...           ...            ...      ...   ...   \n",
      "998           6.0    110.0            26             27      590  20.8   \n",
      "999           6.0    110.0            26             27      590  20.8   \n",
      "1001          4.0     80.0            24              6      268  48.9   \n",
      "1002          3.0    142.0         Error             10      299   4.8   \n",
      "1003          6.0    151.0            60             26      362  43.4   \n",
      "\n",
      "      DiabetesPedigreeFunction    Age Outcome  \n",
      "0                        2.447  125.0   FALSE  \n",
      "1                        0.507  148.0   FALSE  \n",
      "2                        1.769   91.0    TRUE  \n",
      "4                        0.729   73.0   FALSE  \n",
      "5                        1.369  148.0    TRUE  \n",
      "...                        ...    ...     ...  \n",
      "998                      1.185   95.0   FALSE  \n",
      "999                      1.185   95.0   FALSE  \n",
      "1001                     0.989   81.0    TRUE  \n",
      "1002                     2.411   71.0    TRUE  \n",
      "1003                     2.027   23.0   FALSE  \n",
      "\n",
      "[839 rows x 9 columns]\n"
     ]
    }
   ],
   "source": [
    "# Question 2: Remove the rows with data errors in your jupyter notebook.\n",
    "error_columns = (pima_dedupped_df.BloodPressure == 'Error') | (pima_dedupped_df.BMI == 'Error') | (pima_dedupped_df.Outcome == 'ERROR')\n",
    "pima_fixed_columns_df = pima_dedupped_df[~error_columns].copy()\n",
    "pima_fixed_columns_df.Outcome.value_counts()"
   ]
  },
  {
   "cell_type": "code",
   "execution_count": 87,
   "metadata": {},
   "outputs": [],
   "source": [
    "# Question 3: After the data is fixed in your columns change the columns to the correct type and save this as the pima_fixed_columns_df.\n",
    "pima_fixed_columns_df['BloodPressure'] = pima_fixed_columns_df.BloodPressure.apply(lambda x: int(x))\n",
    "pima_fixed_columns_df['BMI'] = pima_fixed_columns_df.BMI.apply(lambda x: float(x))"
   ]
  },
  {
   "cell_type": "code",
   "execution_count": 88,
   "metadata": {},
   "outputs": [
    {
     "name": "stdout",
     "output_type": "stream",
     "text": [
      "<class 'pandas.core.frame.DataFrame'>\n",
      "Index: 839 entries, 0 to 1003\n",
      "Data columns (total 9 columns):\n",
      " #   Column                    Non-Null Count  Dtype  \n",
      "---  ------                    --------------  -----  \n",
      " 0   Pregnancies               839 non-null    int64  \n",
      " 1   Glucose                   839 non-null    int64  \n",
      " 2   BloodPressure             839 non-null    object \n",
      " 3   SkinThickness             839 non-null    int64  \n",
      " 4   Insulin                   839 non-null    int64  \n",
      " 5   BMI                       839 non-null    object \n",
      " 6   DiabetesPedigreeFunction  839 non-null    float64\n",
      " 7   Age                       839 non-null    float64\n",
      " 8   Outcome                   839 non-null    object \n",
      "dtypes: float64(2), int64(4), object(3)\n",
      "memory usage: 65.5+ KB\n"
     ]
    }
   ],
   "source": [
    "# Question 4: Run pima_fixed_columns_df.info() to confirm the columns have changed.\n",
    "pima_fixed_columns_df.info()"
   ]
  },
  {
   "cell_type": "markdown",
   "metadata": {},
   "source": [
    "## Part 5: Outlier Detection and Removal\n"
   ]
  },
  {
   "cell_type": "code",
   "execution_count": null,
   "metadata": {},
   "outputs": [],
   "source": [
    "# Question 1: Print out the Outliers in each column in the pima_fixed_columns_df dataframe, use the IQR method of outlier detection.\n",
    "def is_outlier(column: pd.Series):\n",
    "    Q1 = column.quantile(0.25)\n",
    "    Q3 = column.quantile(0.75)\n",
    "    IQR = Q3 - Q1\n",
    "    lower_bound = Q1 - 1.5 * IQR\n",
    "    upper_bound = Q3 + 1.5 * IQR\n",
    "    return ~column.between(lower_bound, upper_bound)\n",
    "\n",
    "for col, dtype in pima_fixed_columns_df.dtypes.items():\n",
    "    if dtype == float or dtype == int:\n",
    "        outliers = is_outlier(pima_fixed_columns_df[col])\n",
    "        outliers = pima_fixed_columns_df[col][outliers]\n",
    "        if len(outliers):\n",
    "            print(f'{col}: {outliers.values}')"
   ]
  },
  {
   "cell_type": "code",
   "execution_count": null,
   "metadata": {},
   "outputs": [],
   "source": [
    "# Question 2: Use loc to remove outliers in each of the columns that have outliers, save this as pima_outlier_removed_df.\n",
    "outliers = is_outlier(pima_fixed_columns_df.Pregnancies) | is_outlier(pima_fixed_columns_df.BloodPressure) | is_outlier(pima_fixed_columns_df.Insulin)\n",
    "pima_outlier_removed_df = pima_fixed_columns_df[~outliers]"
   ]
  },
  {
   "cell_type": "code",
   "execution_count": null,
   "metadata": {},
   "outputs": [],
   "source": [
    "# Question 3:  Print out the row count in the pima_outlier_removed_df and confirm this number is correct.\n",
    "len(pima_outlier_removed_df)"
   ]
  }
 ],
 "metadata": {
  "kernelspec": {
   "display_name": "Python 3 (ipykernel)",
   "language": "python",
   "name": "python3"
  },
  "language_info": {
   "codemirror_mode": {
    "name": "ipython",
    "version": 3
   },
   "file_extension": ".py",
   "mimetype": "text/x-python",
   "name": "python",
   "nbconvert_exporter": "python",
   "pygments_lexer": "ipython3",
   "version": "3.8.2"
  }
 },
 "nbformat": 4,
 "nbformat_minor": 4
}
