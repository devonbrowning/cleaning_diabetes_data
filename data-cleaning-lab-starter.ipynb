{
 "cells": [
  {
   "cell_type": "markdown",
   "metadata": {},
   "source": [
    "# Pima Data cleaning\n",
    "\n"
   ]
  },
  {
   "cell_type": "code",
   "execution_count": null,
   "metadata": {},
   "outputs": [],
   "source": [
    "# Import Modules Here\n",
    "import pandas as pd"
   ]
  },
  {
   "cell_type": "markdown",
   "metadata": {},
   "source": [
    "## Part 1: Read the Data into Jupyter"
   ]
  },
  {
   "cell_type": "code",
   "execution_count": 1,
   "metadata": {},
   "outputs": [
    {
     "ename": "NameError",
     "evalue": "name 'pd' is not defined",
     "output_type": "error",
     "traceback": [
      "\u001b[0;31m---------------------------------------------------------------------------\u001b[0m",
      "\u001b[0;31mNameError\u001b[0m                                 Traceback (most recent call last)",
      "Cell \u001b[0;32mIn[1], line 2\u001b[0m\n\u001b[1;32m      1\u001b[0m \u001b[38;5;66;03m# Read the data into a dataframe named pima_df.\u001b[39;00m\n\u001b[0;32m----> 2\u001b[0m pima_df \u001b[38;5;241m=\u001b[39m \u001b[43mpd\u001b[49m\u001b[38;5;241m.\u001b[39mread_csv(\u001b[38;5;124m'\u001b[39m\u001b[38;5;124mdiabetes_uncleaned_data.csv\u001b[39m\u001b[38;5;124m'\u001b[39m)\n",
      "\u001b[0;31mNameError\u001b[0m: name 'pd' is not defined"
     ]
    }
   ],
   "source": [
    "# Read the data into a dataframe named pima_df.\n",
    "pima_df = pd.read_csv('diabetes_uncleaned_data.csv')"
   ]
  },
  {
   "cell_type": "code",
   "execution_count": 2,
   "metadata": {},
   "outputs": [
    {
     "ename": "NameError",
     "evalue": "name 'pima_df' is not defined",
     "output_type": "error",
     "traceback": [
      "\u001b[0;31m---------------------------------------------------------------------------\u001b[0m",
      "\u001b[0;31mNameError\u001b[0m                                 Traceback (most recent call last)",
      "Cell \u001b[0;32mIn[2], line 2\u001b[0m\n\u001b[1;32m      1\u001b[0m \u001b[38;5;66;03m#Question 1:  Find Columns with missing data\u001b[39;00m\n\u001b[0;32m----> 2\u001b[0m \u001b[43mpima_df\u001b[49m\u001b[38;5;241m.\u001b[39misna()\u001b[38;5;241m.\u001b[39msum()\n",
      "\u001b[0;31mNameError\u001b[0m: name 'pima_df' is not defined"
     ]
    }
   ],
   "source": [
    "#Question 1:  Find Columns with missing data\n",
    "pima_df.isna().sum()"
   ]
  },
  {
   "cell_type": "code",
   "execution_count": 3,
   "metadata": {},
   "outputs": [
    {
     "ename": "NameError",
     "evalue": "name 'pima_df' is not defined",
     "output_type": "error",
     "traceback": [
      "\u001b[0;31m---------------------------------------------------------------------------\u001b[0m",
      "\u001b[0;31mNameError\u001b[0m                                 Traceback (most recent call last)",
      "Cell \u001b[0;32mIn[3], line 2\u001b[0m\n\u001b[1;32m      1\u001b[0m \u001b[38;5;66;03m# Question 2:  Write code to remove rows with missing data and save the new dataframe as pima_missing_fixed_df\u001b[39;00m\n\u001b[0;32m----> 2\u001b[0m \u001b[43mpima_df\u001b[49m\u001b[38;5;241m.\u001b[39minfo()\n",
      "\u001b[0;31mNameError\u001b[0m: name 'pima_df' is not defined"
     ]
    }
   ],
   "source": [
    "# Question 2:  Write code to remove rows with missing data and save the new dataframe as pima_missing_fixed_df\n",
    "pima_df.info()"
   ]
  },
  {
   "cell_type": "code",
   "execution_count": 4,
   "metadata": {},
   "outputs": [
    {
     "ename": "NameError",
     "evalue": "name 'pima_df' is not defined",
     "output_type": "error",
     "traceback": [
      "\u001b[0;31m---------------------------------------------------------------------------\u001b[0m",
      "\u001b[0;31mNameError\u001b[0m                                 Traceback (most recent call last)",
      "Cell \u001b[0;32mIn[4], line 1\u001b[0m\n\u001b[0;32m----> 1\u001b[0m pima_missing_fixed_df \u001b[38;5;241m=\u001b[39m \u001b[43mpima_df\u001b[49m\u001b[38;5;241m.\u001b[39mdropna(how\u001b[38;5;241m=\u001b[39m\u001b[38;5;124m'\u001b[39m\u001b[38;5;124many\u001b[39m\u001b[38;5;124m'\u001b[39m)\n\u001b[1;32m      2\u001b[0m pima_missing_fixed_df\u001b[38;5;241m.\u001b[39misna()\u001b[38;5;241m.\u001b[39msum()\n",
      "\u001b[0;31mNameError\u001b[0m: name 'pima_df' is not defined"
     ]
    }
   ],
   "source": [
    "pima_missing_fixed_df = pima_df.dropna(how='any')\n",
    "pima_missing_fixed_df.isna().sum()"
   ]
  },
  {
   "cell_type": "code",
   "execution_count": 5,
   "metadata": {},
   "outputs": [
    {
     "ename": "NameError",
     "evalue": "name 'pima_missing_fixed_df' is not defined",
     "output_type": "error",
     "traceback": [
      "\u001b[0;31m---------------------------------------------------------------------------\u001b[0m",
      "\u001b[0;31mNameError\u001b[0m                                 Traceback (most recent call last)",
      "Cell \u001b[0;32mIn[5], line 1\u001b[0m\n\u001b[0;32m----> 1\u001b[0m \u001b[38;5;28mprint\u001b[39m(\u001b[43mpima_missing_fixed_df\u001b[49m\u001b[38;5;241m.\u001b[39minfo())\n",
      "\u001b[0;31mNameError\u001b[0m: name 'pima_missing_fixed_df' is not defined"
     ]
    }
   ],
   "source": [
    "print(pima_missing_fixed_df.info())"
   ]
  },
  {
   "cell_type": "code",
   "execution_count": 6,
   "metadata": {},
   "outputs": [
    {
     "ename": "NameError",
     "evalue": "name 'pima_missing_fixed_df' is not defined",
     "output_type": "error",
     "traceback": [
      "\u001b[0;31m---------------------------------------------------------------------------\u001b[0m",
      "\u001b[0;31mNameError\u001b[0m                                 Traceback (most recent call last)",
      "Cell \u001b[0;32mIn[6], line 2\u001b[0m\n\u001b[1;32m      1\u001b[0m \u001b[38;5;66;03m# Question 3:  Print out the number of rows in the dataframe.\u001b[39;00m\n\u001b[0;32m----> 2\u001b[0m \u001b[38;5;28mlen\u001b[39m(\u001b[43mpima_missing_fixed_df\u001b[49m)\n",
      "\u001b[0;31mNameError\u001b[0m: name 'pima_missing_fixed_df' is not defined"
     ]
    }
   ],
   "source": [
    "# Question 3:  Print out the number of rows in the dataframe.\n",
    "len(pima_missing_fixed_df)"
   ]
  },
  {
   "cell_type": "code",
   "execution_count": 7,
   "metadata": {},
   "outputs": [
    {
     "ename": "SyntaxError",
     "evalue": "invalid syntax (3183949036.py, line 2)",
     "output_type": "error",
     "traceback": [
      "\u001b[0;36m  Cell \u001b[0;32mIn[7], line 2\u001b[0;36m\u001b[0m\n\u001b[0;31m    Discuss why missing data could be a problem? Missing data could lead to incomplete analysis--if not handled properly, it could skew\u001b[0m\n\u001b[0m            ^\u001b[0m\n\u001b[0;31mSyntaxError\u001b[0m\u001b[0;31m:\u001b[0m invalid syntax\n"
     ]
    }
   ],
   "source": [
    "# Question 4: In your jupyter notebook, discuss why this could be a problem. What other methods could you use in this situation? \n",
    "Discuss why missing data could be a problem? Missing data could lead to incomplete analysis--if not handled properly, it could skew \n",
    "statistical measures and affect the reliability of the conclusions that are being drawn from the data, we dont want steakholders viewing\n",
    "this data. We first need to understand why the data is missing, what kind of data is missing, and if it needs to be filled in before making \n",
    "conclusions. "
   ]
  },
  {
   "cell_type": "code",
   "execution_count": 8,
   "metadata": {},
   "outputs": [
    {
     "ename": "NameError",
     "evalue": "name 'pima_missing_fixed_df' is not defined",
     "output_type": "error",
     "traceback": [
      "\u001b[0;31m---------------------------------------------------------------------------\u001b[0m",
      "\u001b[0;31mNameError\u001b[0m                                 Traceback (most recent call last)",
      "Cell \u001b[0;32mIn[8], line 2\u001b[0m\n\u001b[1;32m      1\u001b[0m \u001b[38;5;66;03m# Question 1: find the rows of duplicated data in the pima_missing_fixed_df and print them.  \u001b[39;00m\n\u001b[0;32m----> 2\u001b[0m \u001b[43mpima_missing_fixed_df\u001b[49m[pima_missing_fixed_df\u001b[38;5;241m.\u001b[39mduplicated()]\n",
      "\u001b[0;31mNameError\u001b[0m: name 'pima_missing_fixed_df' is not defined"
     ]
    }
   ],
   "source": [
    "# Question 1: find the rows of duplicated data in the pima_missing_fixed_df and print them.  \n",
    "pima_missing_fixed_df[pima_missing_fixed_df.duplicated()]"
   ]
  },
  {
   "cell_type": "code",
   "execution_count": 9,
   "metadata": {},
   "outputs": [
    {
     "ename": "NameError",
     "evalue": "name 'pima_missing_fixed_df' is not defined",
     "output_type": "error",
     "traceback": [
      "\u001b[0;31m---------------------------------------------------------------------------\u001b[0m",
      "\u001b[0;31mNameError\u001b[0m                                 Traceback (most recent call last)",
      "Cell \u001b[0;32mIn[9], line 3\u001b[0m\n\u001b[1;32m      1\u001b[0m \u001b[38;5;66;03m# Question 2:  Write code to remove the duplicate rows and save the new dataframe as pima_dedupped_df\u001b[39;00m\n\u001b[1;32m      2\u001b[0m \u001b[38;5;66;03m# Remove duplicate rows and save\u001b[39;00m\n\u001b[0;32m----> 3\u001b[0m pima_dedupped_df \u001b[38;5;241m=\u001b[39m \u001b[43mpima_missing_fixed_df\u001b[49m\u001b[38;5;241m.\u001b[39mdrop_duplicates()\n",
      "\u001b[0;31mNameError\u001b[0m: name 'pima_missing_fixed_df' is not defined"
     ]
    }
   ],
   "source": [
    "# Question 2:  Write code to remove the duplicate rows and save the new dataframe as pima_dedupped_df\n",
    "# Remove duplicate rows and save\n",
    "pima_dedupped_df = pima_missing_fixed_df.drop_duplicates()"
   ]
  },
  {
   "cell_type": "code",
   "execution_count": 10,
   "metadata": {},
   "outputs": [
    {
     "ename": "NameError",
     "evalue": "name 'pima_dedupped_df' is not defined",
     "output_type": "error",
     "traceback": [
      "\u001b[0;31m---------------------------------------------------------------------------\u001b[0m",
      "\u001b[0;31mNameError\u001b[0m                                 Traceback (most recent call last)",
      "Cell \u001b[0;32mIn[10], line 2\u001b[0m\n\u001b[1;32m      1\u001b[0m \u001b[38;5;66;03m# Question 3:  Print out the number of rows in the dataframe.\u001b[39;00m\n\u001b[0;32m----> 2\u001b[0m \u001b[38;5;28mlen\u001b[39m(\u001b[43mpima_dedupped_df\u001b[49m)\n",
      "\u001b[0;31mNameError\u001b[0m: name 'pima_dedupped_df' is not defined"
     ]
    }
   ],
   "source": [
    "# Question 3:  Print out the number of rows in the dataframe.\n",
    "len(pima_dedupped_df)"
   ]
  },
  {
   "cell_type": "code",
   "execution_count": 11,
   "metadata": {},
   "outputs": [
    {
     "ename": "NameError",
     "evalue": "name 'pima_dedupped_df' is not defined",
     "output_type": "error",
     "traceback": [
      "\u001b[0;31m---------------------------------------------------------------------------\u001b[0m",
      "\u001b[0;31mNameError\u001b[0m                                 Traceback (most recent call last)",
      "Cell \u001b[0;32mIn[11], line 2\u001b[0m\n\u001b[1;32m      1\u001b[0m \u001b[38;5;66;03m# Question 1: find the columns where most of the data seems to be one type of data, and there seems to be a data error. In the markdown, after exploring in code, add a markdown cell discussing which columns have the data error. \u001b[39;00m\n\u001b[0;32m----> 2\u001b[0m \u001b[43mpima_dedupped_df\u001b[49m\u001b[38;5;241m.\u001b[39mhead()\n",
      "\u001b[0;31mNameError\u001b[0m: name 'pima_dedupped_df' is not defined"
     ]
    }
   ],
   "source": [
    "# Question 1: find the columns where most of the data seems to be one type of data, and there seems to be a data error. In the markdown, after exploring in code, add a markdown cell discussing which columns have the data error. \n",
    "pima_dedupped_df.head()"
   ]
  },
  {
   "cell_type": "code",
   "execution_count": 12,
   "metadata": {},
   "outputs": [
    {
     "ename": "NameError",
     "evalue": "name 'pima_dedupped_df' is not defined",
     "output_type": "error",
     "traceback": [
      "\u001b[0;31m---------------------------------------------------------------------------\u001b[0m",
      "\u001b[0;31mNameError\u001b[0m                                 Traceback (most recent call last)",
      "Cell \u001b[0;32mIn[12], line 1\u001b[0m\n\u001b[0;32m----> 1\u001b[0m \u001b[38;5;28mprint\u001b[39m(\u001b[43mpima_dedupped_df\u001b[49m\u001b[38;5;241m.\u001b[39mdtypes)\n",
      "\u001b[0;31mNameError\u001b[0m: name 'pima_dedupped_df' is not defined"
     ]
    }
   ],
   "source": [
    "print(pima_dedupped_df.dtypes)"
   ]
  },
  {
   "cell_type": "code",
   "execution_count": 13,
   "metadata": {},
   "outputs": [
    {
     "ename": "NameError",
     "evalue": "name 'pima_dedupped_df' is not defined",
     "output_type": "error",
     "traceback": [
      "\u001b[0;31m---------------------------------------------------------------------------\u001b[0m",
      "\u001b[0;31mNameError\u001b[0m                                 Traceback (most recent call last)",
      "Cell \u001b[0;32mIn[13], line 1\u001b[0m\n\u001b[0;32m----> 1\u001b[0m \u001b[38;5;28;01mfor\u001b[39;00m col, dtype \u001b[38;5;129;01min\u001b[39;00m \u001b[43mpima_dedupped_df\u001b[49m\u001b[38;5;241m.\u001b[39mdtypes\u001b[38;5;241m.\u001b[39mitems():\n\u001b[1;32m      2\u001b[0m     \u001b[38;5;28;01mif\u001b[39;00m dtype \u001b[38;5;241m==\u001b[39m \u001b[38;5;28mfloat\u001b[39m \u001b[38;5;129;01mor\u001b[39;00m dtype \u001b[38;5;241m==\u001b[39m \u001b[38;5;28mint\u001b[39m:\n\u001b[1;32m      3\u001b[0m         \u001b[38;5;28mprint\u001b[39m(\u001b[38;5;124mf\u001b[39m\u001b[38;5;124m'\u001b[39m\u001b[38;5;132;01m{\u001b[39;00mcol\u001b[38;5;132;01m}\u001b[39;00m\u001b[38;5;124m: \u001b[39m\u001b[38;5;132;01m{\u001b[39;00mpima_dedupped_df[col]\u001b[38;5;241m.\u001b[39mmin()\u001b[38;5;132;01m}\u001b[39;00m\u001b[38;5;124m -> \u001b[39m\u001b[38;5;132;01m{\u001b[39;00mpima_dedupped_df[col]\u001b[38;5;241m.\u001b[39mmax()\u001b[38;5;132;01m}\u001b[39;00m\u001b[38;5;124m'\u001b[39m)\n",
      "\u001b[0;31mNameError\u001b[0m: name 'pima_dedupped_df' is not defined"
     ]
    }
   ],
   "source": [
    "for col, dtype in pima_dedupped_df.dtypes.items():\n",
    "    if dtype == float or dtype == int:\n",
    "        print(f'{col}: {pima_dedupped_df[col].min()} -> {pima_dedupped_df[col].max()}')"
   ]
  },
  {
   "cell_type": "code",
   "execution_count": 14,
   "metadata": {},
   "outputs": [
    {
     "ename": "NameError",
     "evalue": "name 'pima_dedupped_df' is not defined",
     "output_type": "error",
     "traceback": [
      "\u001b[0;31m---------------------------------------------------------------------------\u001b[0m",
      "\u001b[0;31mNameError\u001b[0m                                 Traceback (most recent call last)",
      "Cell \u001b[0;32mIn[14], line 1\u001b[0m\n\u001b[0;32m----> 1\u001b[0m \u001b[43mpima_dedupped_df\u001b[49m\u001b[38;5;241m.\u001b[39mBloodPressure\u001b[38;5;241m.\u001b[39mmax()\n",
      "\u001b[0;31mNameError\u001b[0m: name 'pima_dedupped_df' is not defined"
     ]
    }
   ],
   "source": [
    "pima_dedupped_df.BloodPressure.max()"
   ]
  },
  {
   "cell_type": "code",
   "execution_count": 15,
   "metadata": {},
   "outputs": [
    {
     "ename": "NameError",
     "evalue": "name 'pima_dedupped_df' is not defined",
     "output_type": "error",
     "traceback": [
      "\u001b[0;31m---------------------------------------------------------------------------\u001b[0m",
      "\u001b[0;31mNameError\u001b[0m                                 Traceback (most recent call last)",
      "Cell \u001b[0;32mIn[15], line 1\u001b[0m\n\u001b[0;32m----> 1\u001b[0m \u001b[43mpima_dedupped_df\u001b[49m\u001b[38;5;241m.\u001b[39mBMI\u001b[38;5;241m.\u001b[39mmax()\n",
      "\u001b[0;31mNameError\u001b[0m: name 'pima_dedupped_df' is not defined"
     ]
    }
   ],
   "source": [
    "pima_dedupped_df.BMI.max()"
   ]
  },
  {
   "cell_type": "code",
   "execution_count": 16,
   "metadata": {},
   "outputs": [
    {
     "ename": "NameError",
     "evalue": "name 'pima_dedupped_df' is not defined",
     "output_type": "error",
     "traceback": [
      "\u001b[0;31m---------------------------------------------------------------------------\u001b[0m",
      "\u001b[0;31mNameError\u001b[0m                                 Traceback (most recent call last)",
      "Cell \u001b[0;32mIn[16], line 1\u001b[0m\n\u001b[0;32m----> 1\u001b[0m \u001b[43mpima_dedupped_df\u001b[49m\u001b[38;5;241m.\u001b[39mOutcome\u001b[38;5;241m.\u001b[39mvalue_counts()\n",
      "\u001b[0;31mNameError\u001b[0m: name 'pima_dedupped_df' is not defined"
     ]
    }
   ],
   "source": [
    "pima_dedupped_df.Outcome.value_counts()"
   ]
  },
  {
   "cell_type": "code",
   "execution_count": 17,
   "metadata": {},
   "outputs": [
    {
     "ename": "SyntaxError",
     "evalue": "invalid syntax (2639171379.py, line 3)",
     "output_type": "error",
     "traceback": [
      "\u001b[0;36m  Cell \u001b[0;32mIn[17], line 3\u001b[0;36m\u001b[0m\n\u001b[0;31m    Upon examining the unique values in each column:\u001b[0m\n\u001b[0m         ^\u001b[0m\n\u001b[0;31mSyntaxError\u001b[0m\u001b[0;31m:\u001b[0m invalid syntax\n"
     ]
    }
   ],
   "source": [
    "### Columns with Identified Data Errors (Based on Unique Values)\n",
    "\n",
    "Upon examining the unique values in each column:\n",
    "\n",
    "- **Pregnancies**: contains -100 which is an error based on num pregnancies in df.\n",
    "- **Glucose**: given 70 to 200 mg/dL is for normal and diabetic populations, values like 0 and very low integers are likely errors or missing\n",
    "data points. Values close to 200 should be checked for their validity.\n",
    "- **BloodPressure**: Contains values like 0 adn 10000, which are likely errors given the context of blood pressure, as well as 'error' value\n",
    "- **SkinThickness**: Zero (0) might indicate a missing value or an error, as its unusual to have zero skin thickness.\n",
    "- **Insulin**: The value 10000 stands out as it is significantly higher than other values and might be an error or a rare extreme case.\n",
    "- **BMI**: Includes values such as 0, which are biologically implausible for body mass index, as well as some extremes. Error input as str as well.\n",
    "- **DiabetesPedigreeFunction**: need more insights\n",
    "- **Age**: Fairly reasonable, could check validity of extreme high values\n",
    "- **Outcome**: some error values\n",
    "\n",
    "These unique values suggest potential errors or inconsistencies in the dataset that need to be addressed\n"
   ]
  },
  {
   "cell_type": "code",
   "execution_count": 18,
   "metadata": {},
   "outputs": [],
   "source": [
    "import numpy as np"
   ]
  },
  {
   "cell_type": "code",
   "execution_count": 19,
   "metadata": {},
   "outputs": [
    {
     "ename": "NameError",
     "evalue": "name 'pima_dedupped_df' is not defined",
     "output_type": "error",
     "traceback": [
      "\u001b[0;31m---------------------------------------------------------------------------\u001b[0m",
      "\u001b[0;31mNameError\u001b[0m                                 Traceback (most recent call last)",
      "Cell \u001b[0;32mIn[19], line 2\u001b[0m\n\u001b[1;32m      1\u001b[0m \u001b[38;5;66;03m# Question 2: Remove the rows with data errors in your jupyter notebook.\u001b[39;00m\n\u001b[0;32m----> 2\u001b[0m error_columns \u001b[38;5;241m=\u001b[39m (\u001b[43mpima_dedupped_df\u001b[49m\u001b[38;5;241m.\u001b[39mBloodPressure \u001b[38;5;241m==\u001b[39m \u001b[38;5;124m'\u001b[39m\u001b[38;5;124mError\u001b[39m\u001b[38;5;124m'\u001b[39m) \u001b[38;5;241m|\u001b[39m (pima_dedupped_df\u001b[38;5;241m.\u001b[39mBMI \u001b[38;5;241m==\u001b[39m \u001b[38;5;124m'\u001b[39m\u001b[38;5;124mError\u001b[39m\u001b[38;5;124m'\u001b[39m) \u001b[38;5;241m|\u001b[39m (pima_dedupped_df\u001b[38;5;241m.\u001b[39mOutcome \u001b[38;5;241m==\u001b[39m \u001b[38;5;124m'\u001b[39m\u001b[38;5;124mERROR\u001b[39m\u001b[38;5;124m'\u001b[39m)\n\u001b[1;32m      3\u001b[0m pima_fixed_columns_df \u001b[38;5;241m=\u001b[39m pima_dedupped_df[\u001b[38;5;241m~\u001b[39merror_columns]\u001b[38;5;241m.\u001b[39mcopy()\n\u001b[1;32m      4\u001b[0m pima_fixed_columns_df\u001b[38;5;241m.\u001b[39mOutcome\u001b[38;5;241m.\u001b[39mvalue_counts()\n",
      "\u001b[0;31mNameError\u001b[0m: name 'pima_dedupped_df' is not defined"
     ]
    }
   ],
   "source": [
    "# Question 2: Remove the rows with data errors in your jupyter notebook.\n",
    "error_columns = (pima_dedupped_df.BloodPressure == 'Error') | (pima_dedupped_df.BMI == 'Error') | (pima_dedupped_df.Outcome == 'ERROR')\n",
    "pima_fixed_columns_df = pima_dedupped_df[~error_columns].copy()\n",
    "pima_fixed_columns_df.Outcome.value_counts()"
   ]
  },
  {
   "cell_type": "code",
   "execution_count": 20,
   "metadata": {},
   "outputs": [
    {
     "ename": "NameError",
     "evalue": "name 'pima_fixed_columns_df' is not defined",
     "output_type": "error",
     "traceback": [
      "\u001b[0;31m---------------------------------------------------------------------------\u001b[0m",
      "\u001b[0;31mNameError\u001b[0m                                 Traceback (most recent call last)",
      "Cell \u001b[0;32mIn[20], line 2\u001b[0m\n\u001b[1;32m      1\u001b[0m \u001b[38;5;66;03m# Question 3: After the data is fixed in your columns change the columns to the correct type and save this as the pima_fixed_columns_df.\u001b[39;00m\n\u001b[0;32m----> 2\u001b[0m pima_fixed_columns_df[\u001b[38;5;124m'\u001b[39m\u001b[38;5;124mBloodPressure\u001b[39m\u001b[38;5;124m'\u001b[39m] \u001b[38;5;241m=\u001b[39m \u001b[43mpima_fixed_columns_df\u001b[49m\u001b[38;5;241m.\u001b[39mBloodPressure\u001b[38;5;241m.\u001b[39mapply(\u001b[38;5;28;01mlambda\u001b[39;00m x: \u001b[38;5;28mint\u001b[39m(x))\n\u001b[1;32m      3\u001b[0m pima_fixed_columns_df[\u001b[38;5;124m'\u001b[39m\u001b[38;5;124mBMI\u001b[39m\u001b[38;5;124m'\u001b[39m] \u001b[38;5;241m=\u001b[39m pima_fixed_columns_df\u001b[38;5;241m.\u001b[39mBMI\u001b[38;5;241m.\u001b[39mapply(\u001b[38;5;28;01mlambda\u001b[39;00m x: \u001b[38;5;28mfloat\u001b[39m(x))\n",
      "\u001b[0;31mNameError\u001b[0m: name 'pima_fixed_columns_df' is not defined"
     ]
    }
   ],
   "source": [
    "# Question 3: After the data is fixed in your columns change the columns to the correct type and save this as the pima_fixed_columns_df.\n",
    "pima_fixed_columns_df['BloodPressure'] = pima_fixed_columns_df.BloodPressure.apply(lambda x: int(x))\n",
    "pima_fixed_columns_df['BMI'] = pima_fixed_columns_df.BMI.apply(lambda x: float(x))"
   ]
  },
  {
   "cell_type": "code",
   "execution_count": 21,
   "metadata": {},
   "outputs": [
    {
     "ename": "NameError",
     "evalue": "name 'pima_fixed_columns_df' is not defined",
     "output_type": "error",
     "traceback": [
      "\u001b[0;31m---------------------------------------------------------------------------\u001b[0m",
      "\u001b[0;31mNameError\u001b[0m                                 Traceback (most recent call last)",
      "Cell \u001b[0;32mIn[21], line 2\u001b[0m\n\u001b[1;32m      1\u001b[0m \u001b[38;5;66;03m# Question 4: Run pima_fixed_columns_df.info() to confirm the columns have changed.\u001b[39;00m\n\u001b[0;32m----> 2\u001b[0m \u001b[43mpima_fixed_columns_df\u001b[49m\u001b[38;5;241m.\u001b[39minfo()\n",
      "\u001b[0;31mNameError\u001b[0m: name 'pima_fixed_columns_df' is not defined"
     ]
    }
   ],
   "source": [
    "# Question 4: Run pima_fixed_columns_df.info() to confirm the columns have changed.\n",
    "pima_fixed_columns_df.info()"
   ]
  },
  {
   "cell_type": "markdown",
   "metadata": {},
   "source": [
    "## Part 5: Outlier Detection and Removal\n"
   ]
  },
  {
   "cell_type": "code",
   "execution_count": 22,
   "metadata": {},
   "outputs": [
    {
     "ename": "NameError",
     "evalue": "name 'pd' is not defined",
     "output_type": "error",
     "traceback": [
      "\u001b[0;31m---------------------------------------------------------------------------\u001b[0m",
      "\u001b[0;31mNameError\u001b[0m                                 Traceback (most recent call last)",
      "Cell \u001b[0;32mIn[22], line 2\u001b[0m\n\u001b[1;32m      1\u001b[0m \u001b[38;5;66;03m# Question 1: Print out the Outliers in each column in the pima_fixed_columns_df dataframe, use the IQR method of outlier detection.\u001b[39;00m\n\u001b[0;32m----> 2\u001b[0m \u001b[38;5;28;01mdef\u001b[39;00m \u001b[38;5;21mis_outlier\u001b[39m(column: \u001b[43mpd\u001b[49m\u001b[38;5;241m.\u001b[39mSeries):\n\u001b[1;32m      3\u001b[0m     Q1 \u001b[38;5;241m=\u001b[39m column\u001b[38;5;241m.\u001b[39mquantile(\u001b[38;5;241m0.25\u001b[39m)\n\u001b[1;32m      4\u001b[0m     Q3 \u001b[38;5;241m=\u001b[39m column\u001b[38;5;241m.\u001b[39mquantile(\u001b[38;5;241m0.75\u001b[39m)\n",
      "\u001b[0;31mNameError\u001b[0m: name 'pd' is not defined"
     ]
    }
   ],
   "source": [
    "# Question 1: Print out the Outliers in each column in the pima_fixed_columns_df dataframe, use the IQR method of outlier detection.\n",
    "def is_outlier(column: pd.Series):\n",
    "    Q1 = column.quantile(0.25)\n",
    "    Q3 = column.quantile(0.75)\n",
    "    IQR = Q3 - Q1\n",
    "    lower_bound = Q1 - 1.5 * IQR\n",
    "    upper_bound = Q3 + 1.5 * IQR\n",
    "    return ~column.between(lower_bound, upper_bound)\n",
    "\n",
    "for col, dtype in pima_fixed_columns_df.dtypes.items():\n",
    "    if dtype == float or dtype == int:\n",
    "        outliers = is_outlier(pima_fixed_columns_df[col])\n",
    "        outliers = pima_fixed_columns_df[col][outliers]\n",
    "        if len(outliers):\n",
    "            print(f'{col}: {outliers.values}')"
   ]
  },
  {
   "cell_type": "code",
   "execution_count": 23,
   "metadata": {},
   "outputs": [
    {
     "ename": "NameError",
     "evalue": "name 'is_outlier' is not defined",
     "output_type": "error",
     "traceback": [
      "\u001b[0;31m---------------------------------------------------------------------------\u001b[0m",
      "\u001b[0;31mNameError\u001b[0m                                 Traceback (most recent call last)",
      "Cell \u001b[0;32mIn[23], line 2\u001b[0m\n\u001b[1;32m      1\u001b[0m \u001b[38;5;66;03m# Question 2: Use loc to remove outliers in each of the columns that have outliers, save this as pima_outlier_removed_df.\u001b[39;00m\n\u001b[0;32m----> 2\u001b[0m outliers \u001b[38;5;241m=\u001b[39m \u001b[43mis_outlier\u001b[49m(pima_fixed_columns_df\u001b[38;5;241m.\u001b[39mPregnancies) \u001b[38;5;241m|\u001b[39m is_outlier(pima_fixed_columns_df\u001b[38;5;241m.\u001b[39mBloodPressure) \u001b[38;5;241m|\u001b[39m is_outlier(pima_fixed_columns_df\u001b[38;5;241m.\u001b[39mInsulin)\n\u001b[1;32m      3\u001b[0m pima_outlier_removed_df \u001b[38;5;241m=\u001b[39m pima_fixed_columns_df[\u001b[38;5;241m~\u001b[39moutliers]\n",
      "\u001b[0;31mNameError\u001b[0m: name 'is_outlier' is not defined"
     ]
    }
   ],
   "source": [
    "# Question 2: Use loc to remove outliers in each of the columns that have outliers, save this as pima_outlier_removed_df.\n",
    "outliers = is_outlier(pima_fixed_columns_df.Pregnancies) | is_outlier(pima_fixed_columns_df.BloodPressure) | is_outlier(pima_fixed_columns_df.Insulin)\n",
    "pima_outlier_removed_df = pima_fixed_columns_df[~outliers]"
   ]
  },
  {
   "cell_type": "code",
   "execution_count": 24,
   "metadata": {},
   "outputs": [
    {
     "ename": "NameError",
     "evalue": "name 'pima_outlier_removed_df' is not defined",
     "output_type": "error",
     "traceback": [
      "\u001b[0;31m---------------------------------------------------------------------------\u001b[0m",
      "\u001b[0;31mNameError\u001b[0m                                 Traceback (most recent call last)",
      "Cell \u001b[0;32mIn[24], line 2\u001b[0m\n\u001b[1;32m      1\u001b[0m \u001b[38;5;66;03m# Question 3:  Print out the row count in the pima_outlier_removed_df and confirm this number is correct.\u001b[39;00m\n\u001b[0;32m----> 2\u001b[0m \u001b[38;5;28mlen\u001b[39m(\u001b[43mpima_outlier_removed_df\u001b[49m)\n",
      "\u001b[0;31mNameError\u001b[0m: name 'pima_outlier_removed_df' is not defined"
     ]
    }
   ],
   "source": [
    "# Question 3:  Print out the row count in the pima_outlier_removed_df and confirm this number is correct.\n",
    "len(pima_outlier_removed_df)"
   ]
  }
 ],
 "metadata": {
  "kernelspec": {
   "display_name": "Python 3 (ipykernel)",
   "language": "python",
   "name": "python3"
  },
  "language_info": {
   "codemirror_mode": {
    "name": "ipython",
    "version": 3
   },
   "file_extension": ".py",
   "mimetype": "text/x-python",
   "name": "python",
   "nbconvert_exporter": "python",
   "pygments_lexer": "ipython3",
   "version": "3.8.2"
  }
 },
 "nbformat": 4,
 "nbformat_minor": 4
}
