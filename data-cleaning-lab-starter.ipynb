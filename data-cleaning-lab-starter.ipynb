{
 "cells": [
  {
   "cell_type": "markdown",
   "metadata": {},
   "source": [
    "# Pima Data cleaning\n",
    "\n"
   ]
  },
  {
   "cell_type": "code",
   "execution_count": null,
   "metadata": {},
   "outputs": [],
   "source": [
    "# Import Modules Here\n",
    "import pandas as pd"
   ]
  },
  {
   "cell_type": "markdown",
   "metadata": {},
   "source": [
    "## Part 1: Read the Data into Jupyter"
   ]
  },
  {
   "cell_type": "code",
   "execution_count": null,
   "metadata": {},
   "outputs": [],
   "source": [
    "# Read the data into a dataframe named pima_df.\n",
    "pima_df = pd.read_csv('diabetes_uncleaned_data.csv')"
   ]
  },
  {
   "cell_type": "code",
   "execution_count": null,
   "metadata": {},
   "outputs": [],
   "source": [
    "#Question 1:  Find Columns with missing data\n",
    "pima_df.isna().sum()"
   ]
  },
  {
   "cell_type": "code",
   "execution_count": null,
   "metadata": {},
   "outputs": [],
   "source": [
    "# Question 2:  Write code to remove rows with missing data and save the new dataframe as pima_missing_fixed_df\n",
    "pima_df.info()"
   ]
  },
  {
   "cell_type": "code",
   "execution_count": null,
   "metadata": {},
   "outputs": [],
   "source": [
    "pima_missing_fixed_df = pima_df.dropna(how='any')\n",
    "pima_missing_fixed_df.isna().sum()"
   ]
  },
  {
   "cell_type": "code",
   "execution_count": null,
   "metadata": {},
   "outputs": [],
   "source": [
    "print(pima_missing_fixed_df.info())"
   ]
  },
  {
   "cell_type": "code",
   "execution_count": null,
   "metadata": {},
   "outputs": [],
   "source": [
    "# Question 3:  Print out the number of rows in the dataframe.\n",
    "len(pima_missing_fixed_df)"
   ]
  },
  {
   "cell_type": "code",
   "execution_count": null,
   "metadata": {},
   "outputs": [],
   "source": [
    "# Question 4: In your jupyter notebook, discuss why this could be a problem. What other methods could you use in this situation? \n",
    "Discuss why missing data could be a problem? Missing data could lead to incomplete analysis--if not handled properly, it could skew \n",
    "statistical measures and affect the reliability of the conclusions that are being drawn from the data, we dont want steakholders viewing\n",
    "this data. We first need to understand why the data is missing, what kind of data is missing, and if it needs to be filled in before making \n",
    "conclusions. "
   ]
  },
  {
   "cell_type": "code",
   "execution_count": null,
   "metadata": {},
   "outputs": [],
   "source": [
    "# Question 1: find the rows of duplicated data in the pima_missing_fixed_df and print them.  \n",
    "pima_missing_fixed_df[pima_missing_fixed_df.duplicated()]"
   ]
  },
  {
   "cell_type": "code",
   "execution_count": null,
   "metadata": {},
   "outputs": [],
   "source": [
    "# Question 2:  Write code to remove the duplicate rows and save the new dataframe as pima_dedupped_df\n",
    "# Remove duplicate rows and save\n",
    "pima_dedupped_df = pima_missing_fixed_df.drop_duplicates()"
   ]
  },
  {
   "cell_type": "code",
   "execution_count": null,
   "metadata": {},
   "outputs": [],
   "source": [
    "# Question 3:  Print out the number of rows in the dataframe.\n",
    "len(pima_dedupped_df)"
   ]
  },
  {
   "cell_type": "code",
   "execution_count": null,
   "metadata": {},
   "outputs": [],
   "source": [
    "# Question 1: find the columns where most of the data seems to be one type of data, and there seems to be a data error. In the markdown, after exploring in code, add a markdown cell discussing which columns have the data error. \n",
    "pima_dedupped_df.head()"
   ]
  },
  {
   "cell_type": "code",
   "execution_count": null,
   "metadata": {},
   "outputs": [],
   "source": [
    "print(pima_dedupped_df.dtypes)"
   ]
  },
  {
   "cell_type": "code",
   "execution_count": null,
   "metadata": {},
   "outputs": [],
   "source": [
    "for col, dtype in pima_dedupped_df.dtypes.items():\n",
    "    if dtype == float or dtype == int:\n",
    "        print(f'{col}: {pima_dedupped_df[col].min()} -> {pima_dedupped_df[col].max()}')"
   ]
  },
  {
   "cell_type": "code",
   "execution_count": null,
   "metadata": {},
   "outputs": [],
   "source": [
    "pima_dedupped_df.BloodPressure.max()"
   ]
  },
  {
   "cell_type": "code",
   "execution_count": null,
   "metadata": {},
   "outputs": [],
   "source": [
    "pima_dedupped_df.BMI.max()"
   ]
  },
  {
   "cell_type": "code",
   "execution_count": null,
   "metadata": {},
   "outputs": [],
   "source": [
    "pima_dedupped_df.Outcome.value_counts()"
   ]
  },
  {
   "cell_type": "code",
   "execution_count": null,
   "metadata": {},
   "outputs": [],
   "source": [
    "### Columns with Identified Data Errors (Based on Unique Values)\n",
    "\n",
    "Upon examining the unique values in each column:\n",
    "\n",
    "- **Pregnancies**: contains -100 which is an error based on num pregnancies in df.\n",
    "- **Glucose**: given 70 to 200 mg/dL is for normal and diabetic populations, values like 0 and very low integers are likely errors or missing\n",
    "data points. Values close to 200 should be checked for their validity.\n",
    "- **BloodPressure**: Contains values like 0 adn 10000, which are likely errors given the context of blood pressure, as well as 'error' value\n",
    "- **SkinThickness**: Zero (0) might indicate a missing value or an error, as its unusual to have zero skin thickness.\n",
    "- **Insulin**: The value 10000 stands out as it is significantly higher than other values and might be an error or a rare extreme case.\n",
    "- **BMI**: Includes values such as 0, which are biologically implausible for body mass index, as well as some extremes. Error input as str as well.\n",
    "- **DiabetesPedigreeFunction**: need more insights\n",
    "- **Age**: Fairly reasonable, could check validity of extreme high values\n",
    "- **Outcome**: some error values\n",
    "\n",
    "These unique values suggest potential errors or inconsistencies in the dataset that need to be addressed\n"
   ]
  },
  {
   "cell_type": "code",
   "execution_count": null,
   "metadata": {},
   "outputs": [],
   "source": [
    "import numpy as np"
   ]
  },
  {
   "cell_type": "code",
   "execution_count": null,
   "metadata": {},
   "outputs": [],
   "source": [
    "# Question 2: Remove the rows with data errors in your jupyter notebook.\n",
    "error_columns = (pima_dedupped_df.BloodPressure == 'Error') | (pima_dedupped_df.BMI == 'Error') | (pima_dedupped_df.Outcome == 'ERROR')\n",
    "pima_fixed_columns_df = pima_dedupped_df[~error_columns].copy()\n",
    "pima_fixed_columns_df.Outcome.value_counts()"
   ]
  },
  {
   "cell_type": "code",
   "execution_count": null,
   "metadata": {},
   "outputs": [],
   "source": [
    "# Question 3: After the data is fixed in your columns change the columns to the correct type and save this as the pima_fixed_columns_df.\n",
    "pima_fixed_columns_df['BloodPressure'] = pima_fixed_columns_df.BloodPressure.apply(lambda x: int(x))\n",
    "pima_fixed_columns_df['BMI'] = pima_fixed_columns_df.BMI.apply(lambda x: float(x))"
   ]
  },
  {
   "cell_type": "code",
   "execution_count": null,
   "metadata": {},
   "outputs": [],
   "source": [
    "# Question 4: Run pima_fixed_columns_df.info() to confirm the columns have changed.\n",
    "pima_fixed_columns_df.info()"
   ]
  },
  {
   "cell_type": "markdown",
   "metadata": {},
   "source": [
    "## Part 5: Outlier Detection and Removal\n"
   ]
  },
  {
   "cell_type": "code",
   "execution_count": null,
   "metadata": {},
   "outputs": [],
   "source": [
    "# Question 1: Print out the Outliers in each column in the pima_fixed_columns_df dataframe, use the IQR method of outlier detection.\n",
    "def is_outlier(column: pd.Series):\n",
    "    Q1 = column.quantile(0.25)\n",
    "    Q3 = column.quantile(0.75)\n",
    "    IQR = Q3 - Q1\n",
    "    lower_bound = Q1 - 1.5 * IQR\n",
    "    upper_bound = Q3 + 1.5 * IQR\n",
    "    return ~column.between(lower_bound, upper_bound)\n",
    "\n",
    "for col, dtype in pima_fixed_columns_df.dtypes.items():\n",
    "    if dtype == float or dtype == int:\n",
    "        outliers = is_outlier(pima_fixed_columns_df[col])\n",
    "        outliers = pima_fixed_columns_df[col][outliers]\n",
    "        if len(outliers):\n",
    "            print(f'{col}: {outliers.values}')"
   ]
  },
  {
   "cell_type": "code",
   "execution_count": null,
   "metadata": {},
   "outputs": [],
   "source": [
    "# Question 2: Use loc to remove outliers in each of the columns that have outliers, save this as pima_outlier_removed_df.\n",
    "outliers = is_outlier(pima_fixed_columns_df.Pregnancies) | is_outlier(pima_fixed_columns_df.BloodPressure) | is_outlier(pima_fixed_columns_df.Insulin)\n",
    "pima_outlier_removed_df = pima_fixed_columns_df[~outliers]"
   ]
  },
  {
   "cell_type": "code",
   "execution_count": null,
   "metadata": {},
   "outputs": [],
   "source": [
    "# Question 3:  Print out the row count in the pima_outlier_removed_df and confirm this number is correct.\n",
    "len(pima_outlier_removed_df)"
   ]
  }
 ],
 "metadata": {
  "kernelspec": {
   "display_name": "Python 3 (ipykernel)",
   "language": "python",
   "name": "python3"
  },
  "language_info": {
   "codemirror_mode": {
    "name": "ipython",
    "version": 3
   },
   "file_extension": ".py",
   "mimetype": "text/x-python",
   "name": "python",
   "nbconvert_exporter": "python",
   "pygments_lexer": "ipython3",
   "version": "3.8.2"
  }
 },
 "nbformat": 4,
 "nbformat_minor": 4
}
